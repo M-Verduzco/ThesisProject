{
 "cells": [
  {
   "cell_type": "code",
   "execution_count": 14,
   "metadata": {},
   "outputs": [
    {
     "name": "stdout",
     "output_type": "stream",
     "text": [
      "Overwriting production_planning_basic.mod\n"
     ]
    }
   ],
   "source": [
    "%%writefile production_planning_basic.mod\n",
    "\n",
    "# decision variables\n",
    "var x_M >= 0;\n",
    "var x_A >= 0, <= 80;\n",
    "var x_B >= 0, <= 100;\n",
    "\n",
    "var y_U >= 0, <= 40;\n",
    "var y_V >= 0;\n",
    "\n",
    "# auxiliary variables\n",
    "var revenue = 270 * y_U + 210 * y_V;\n",
    "var cost = 10 * x_M + 50 * x_A + 40 * x_B;\n",
    "\n",
    "# objective\n",
    "maximize profit: revenue - cost;\n",
    "\n",
    "# constraints\n",
    "s.t. raw_materials: 10 * y_U + 9 * y_V <= x_M;\n",
    "s.t. labor_A: 2 * y_U + 1 * y_V <= x_A;\n",
    "s.t. labor_B: 1 * y_U + 1 * y_V <= x_B;"
   ]
  },
  {
   "cell_type": "code",
   "execution_count": 15,
   "metadata": {},
   "outputs": [],
   "source": [
    "from amplpy import AMPL\n",
    "ampl = AMPL()\n",
    "ampl.read(\"production_planning_basic.mod\")"
   ]
  },
  {
   "cell_type": "code",
   "execution_count": 40,
   "metadata": {},
   "outputs": [
    {
     "name": "stdout",
     "output_type": "stream",
     "text": [
      "\n",
      "variables:   cost   revenue   x_A   x_B   x_M   y_U   y_V\n",
      "\n",
      "constraints:   labor_A   labor_B   raw_materials\n",
      "\n",
      "objective:   profit\n",
      "maximize profit:\n",
      "\trevenue - cost;\n",
      "\n",
      "subject to raw_materials:\n",
      "\t-x_M + 10*y_U + 9*y_V <= 0;\n",
      "\n",
      "subject to labor_A:\n",
      "\t-x_A + 2*y_U + y_V <= 0;\n",
      "\n",
      "subject to labor_B:\n",
      "\t-x_B + y_U + y_V <= 0;\n",
      "\n"
     ]
    }
   ],
   "source": [
    "ampl.eval(\"show;\")\n",
    "ampl.eval(\"expand;\")"
   ]
  },
  {
   "cell_type": "code",
   "execution_count": 43,
   "metadata": {},
   "outputs": [
    {
     "name": "stdout",
     "output_type": "stream",
     "text": [
      "Connecting to: neos-server.org:3333\n",
      "Job 13920391 submitted to NEOS, password='UGSihIWn'\n",
      "Check the following URL for progress report:\n",
      "https://neos-server.org/neos/cgi-bin/nph-neos-solver.cgi?admin=results&jobnumber=13920391&pass=UGSihIWn\n",
      "Job 13920391 dispatched\n",
      "password: UGSihIWn\n",
      "---------- Begin Solver Output -----------\n",
      "Condor submit: 'neos.submit'\n",
      "Condor submit: 'watchdog.submit'\n",
      "Job submitted to NEOS HTCondor pool.\n",
      "kestrel_options:solver=cbc\n",
      "\n",
      "Supplied solver options are:  threads=4\n",
      "You are using the solver cbc.\n",
      "Executing on prod-exec-1.neos-server.org\n",
      "CBC 2.10.10: threads=4\n",
      "No match for threads - ? for list of commands\n",
      "No match for 4 - ? for list of commands\n",
      "CBC 2.10.10 optimal, objective 2400\n",
      "0 iterations\n"
     ]
    }
   ],
   "source": [
    "ampl.option[\"solver\"] = \"kestrel\"\n",
    "ampl.option[\"kestrel_options\"] = 'solver=Cbc'\n",
    "ampl.option[\"neos_server\"]='neos-server.org:3333'\n",
    "ampl.option[\"email\"] = 'mauricio.verduzco@itam.mx'\n",
    "ampl.solve()"
   ]
  },
  {
   "cell_type": "code",
   "execution_count": 51,
   "metadata": {},
   "outputs": [
    {
     "name": "stdout",
     "output_type": "stream",
     "text": [
      "profit = 2400\n",
      "\n",
      "270*y_U + 210*y_V = 16800\n",
      "10*x_M + 50*x_A + 40*x_B = 14400\n",
      "\n",
      ":  _varname   _var     :=\n",
      "1   x_M         720\n",
      "2   x_A          80\n",
      "3   x_B          80\n",
      "4   y_U           0\n",
      "5   y_V          80\n",
      "6   revenue   16800\n",
      "7   cost      14400\n",
      ";\n",
      "\n"
     ]
    }
   ],
   "source": [
    "# display a component of the model\n",
    "ampl.display(\"profit\")\n",
    "ampl.display(\"270*y_U + 210*y_V\", \"10*x_M + 50*x_A + 40*x_B\")\n",
    "ampl.display(\"_varname\", \"_var\")"
   ]
  },
  {
   "cell_type": "code",
   "execution_count": 53,
   "metadata": {},
   "outputs": [
    {
     "name": "stdout",
     "output_type": "stream",
     "text": [
      " profit =   2400.00\n",
      "revenue =  16800.00\n",
      "   cost =  14400.00\n"
     ]
    }
   ],
   "source": [
    "print(f\" profit = {ampl.get_value('profit'): 9.2f}\")\n",
    "print(f\"revenue = {ampl.get_value('270*y_U + 210*y_V'): 9.2f}\")\n",
    "print(f\"   cost = {ampl.get_value('10*x_M + 50*x_A + 40*x_B'): 9.2f}\")"
   ]
  }
 ],
 "metadata": {
  "kernelspec": {
   "display_name": "Python 3",
   "language": "python",
   "name": "python3"
  },
  "language_info": {
   "codemirror_mode": {
    "name": "ipython",
    "version": 3
   },
   "file_extension": ".py",
   "mimetype": "text/x-python",
   "name": "python",
   "nbconvert_exporter": "python",
   "pygments_lexer": "ipython3",
   "version": "3.11.8"
  }
 },
 "nbformat": 4,
 "nbformat_minor": 2
}
